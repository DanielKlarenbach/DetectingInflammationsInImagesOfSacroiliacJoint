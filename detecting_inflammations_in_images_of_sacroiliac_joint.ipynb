{
 "cells": [
  {
   "cell_type": "code",
   "execution_count": 1,
   "metadata": {},
   "outputs": [
    {
     "data": {
      "text/plain": [
       "'\\nUsage:\\n1. Data directory must be in the same directory as the script\\n2. Images, lables and superpixels directories must be inside data directory\\n3. Script parameters must be specified in script parameters cell\\n'"
      ]
     },
     "execution_count": 1,
     "metadata": {},
     "output_type": "execute_result"
    }
   ],
   "source": [
    "'''\n",
    "Usage:\n",
    "1. Data directory must be in the same directory as the script\n",
    "2. Images, lables and superpixels directories must be inside data directory\n",
    "3. Script parameters must be specified in script parameters cell\n",
    "'''"
   ]
  },
  {
   "cell_type": "code",
   "execution_count": 2,
   "metadata": {},
   "outputs": [],
   "source": [
    "import numpy as np\n",
    "import os\n",
    "import collections\n",
    "import matplotlib.pyplot as plt\n",
    "import skimage.future.graph as skigraph\n",
    "import shutil"
   ]
  },
  {
   "cell_type": "code",
   "execution_count": 3,
   "metadata": {},
   "outputs": [],
   "source": [
    "# script parameters\n",
    "MAIN_DIR_PATH = \"/home/daniel/Praca inżynierska/DetectingInflammationsInImagesOfSacroiliacJoint\"\n",
    "DATA_DIR_NAME = \"data\"\n",
    "IMAGES_DIR_NAME = \"images\"\n",
    "LABELS_DIR_NAME = \"labels\"\n",
    "SUPERPIXELS_DIR_NAME = \"superpixels\"\n",
    "\n",
    "IMAGE_FILE_PREFIX = \"STIR\"\n",
    "SUPERPIXELS_FILE_PREFIX = \"1000SuperPixelMeanValueTPS_\"\n",
    "\n",
    "IMG_CMAP = \"pink\"\n",
    "EDGE_CMAP = \"viridis\"\n",
    "EDGE_WIDTH = 2"
   ]
  },
  {
   "cell_type": "code",
   "execution_count": 4,
   "metadata": {},
   "outputs": [],
   "source": [
    "# globals\n",
    "DATA_DIR_PATH = f\"{MAIN_DIR_PATH}/{DATA_DIR_NAME}\"\n",
    "IMAGES_DIR_PATH = f\"{DATA_DIR_PATH}/{IMAGES_DIR_NAME}\"\n",
    "LABELS_DIR_PATH = f\"{DATA_DIR_PATH}/{LABELS_DIR_NAME}\"\n",
    "SUPERPIXELS_DIR_PATH = f\"{DATA_DIR_PATH}/{SUPERPIXELS_DIR_NAME}\""
   ]
  },
  {
   "cell_type": "code",
   "execution_count": 5,
   "metadata": {},
   "outputs": [],
   "source": [
    "# utils\n",
    "def show_2d_image_from_3d_image(image_3d, index_of_2d_image):\n",
    "    plt.figure(figsize = (20,20))\n",
    "    plt.imshow(image_3d[:,:,index_of_2d_image], cmap='gray')\n",
    "    plt.show()"
   ]
  },
  {
   "cell_type": "code",
   "execution_count": 6,
   "metadata": {},
   "outputs": [],
   "source": [
    "# read data\n",
    "def read_binary_data_3D(file_name, image_size, image_count, voxel_bytes, signed='Y', byte_order='BE'):\n",
    "    if voxel_bytes == 2:\n",
    "        if signed == 'N':\n",
    "            d = np.zeros((image_size, image_size, image_count), np.uint16)\n",
    "        else:\n",
    "            d = np.zeros((image_size, image_size, image_count), np.int16)\n",
    "    elif voxel_bytes == 1:\n",
    "        if signed == 'N':\n",
    "            d = np.zeros((image_size, image_size, image_count), np.uint8)\n",
    "        else:\n",
    "            d = np.zeros((image_size, image_size, image_count), np.int8)\n",
    "    else:\n",
    "        print('Wrong number of bytes per voxel')\n",
    "        return\n",
    "\n",
    "    f = open(file_name, \"rb\")\n",
    "    for i in range(0, image_count):\n",
    "        for j in range(0, image_size):\n",
    "            for k in range(0, image_size):\n",
    "                byte = f.read(voxel_bytes)\n",
    "                if voxel_bytes == 2:\n",
    "                    if byte_order == 'BE':\n",
    "                        a = 256 * byte[0] + byte[1]\n",
    "                    else:\n",
    "                        a = byte[0] + 256 * byte[1]\n",
    "                else:\n",
    "                    a = byte[0]\n",
    "                d[j,k,i] = a\n",
    "    f.close()\n",
    "    return d"
   ]
  },
  {
   "cell_type": "code",
   "execution_count": 7,
   "metadata": {},
   "outputs": [],
   "source": [
    "# rag creation\n",
    "FileInfo = collections.namedtuple('FileInfo', ['name', 'patient_id', 'height', 'width', 'image_count', 'voxel_bytes'])\n",
    "\n",
    "def create_rag_on_superpixels_image(labels, superpixels, rag, file_info, image_number, edge_width, img_cmap, edge_cmap):\n",
    "    PATIENT_ID_DIR_PATH = f\"{DATA_DIR_PATH}/rags/{file_info.patient_id}\"\n",
    "    RAG_IMAGE_PATH = f\"{PATIENT_ID_DIR_PATH}/rag_{image_number}_{file_info.height}_{file_info.width}_{file_info.image_count}_{file_info.voxel_bytes}_.png\"\n",
    "    if os.path.exists(RAG_IMAGE_PATH):\n",
    "        shutil.rmtree(PATIENT_ID_DIR_PATH)\n",
    "    os.makedirs(PATIENT_ID_DIR_PATH, exist_ok=True)\n",
    "    \n",
    "    rag_file = open(RAG_IMAGE_PATH, \"w\")\n",
    "    rag_file.close()\n",
    "    \n",
    "    fig, ax = plt.subplots(nrows=1, ncols=1, figsize=(20, 20))\n",
    "    ax.axis('off')\n",
    "    lc = skigraph.show_rag(\n",
    "        labels, rag, superpixels, img_cmap=img_cmap, edge_width=edge_width, edge_cmap=edge_cmap, ax=ax\n",
    "    )\n",
    "    fig.colorbar(lc, fraction=0.04, ax=ax)\n",
    "    fig.savefig(RAG_IMAGE_PATH)\n",
    "    plt.close(fig) \n",
    "    \n",
    "def process_given_3D_image(labels_file, image_file, superpixels_file, file_info):\n",
    "    rags = []\n",
    "    \n",
    "    for labels_index in range(file_info.image_count):\n",
    "        print(f\"Processing sub images: {labels_index + 1}/{file_info.image_count}\")\n",
    "        labels = labels_file[:,:,labels_index]\n",
    "        img = image_file[:,:,labels_index]\n",
    "        rag = skigraph.rag_mean_color(img, labels)\n",
    "        rags.append(rag)\n",
    "        superpixels = superpixels_file[:,:,labels_index]\n",
    "        create_rag_on_superpixels_image(\n",
    "            labels, superpixels, rag, file_info, labels_index + 1, EDGE_WIDTH, IMG_CMAP, EDGE_CMAP\n",
    "        )\n",
    "        \n",
    "    return rags\n",
    "\n",
    "def process_all_3D_images_from_directory(images_dir_path, labels_dir_path, superpixels_dir_path):\n",
    "    file_names = os.listdir(labels_dir_path)\n",
    "    rags = {i: list() for i in range(1, len(file_names) + 1)}\n",
    "\n",
    "    for file_name in file_names:\n",
    "        unprocessed_file_info = file_name.split(\"_\")[:-1]\n",
    "        unprocessed_file_info[1:] = [int(unprocessed_file_info[i]) for i in range(1, len(unprocessed_file_info))]\n",
    "        file_info = FileInfo(*unprocessed_file_info)\n",
    "        file_suffix = f\"{file_info.patient_id}_{file_info.height}_{file_info.width}_{file_info.image_count}_{file_info.voxel_bytes}_.raw\"\n",
    "        print(f\"Processing file: {file_info.patient_id}\")\n",
    "        \n",
    "        labels_file = read_binary_data_3D(\n",
    "            f\"{labels_dir_path}/{file_name}\",\n",
    "            file_info.height,\n",
    "            file_info.image_count,\n",
    "            file_info.voxel_bytes,\n",
    "            signed='Y',\n",
    "            byte_order='EB'\n",
    "        )\n",
    "        image_file = read_binary_data_3D(\n",
    "            f\"{images_dir_path}/{IMAGE_FILE_PREFIX}_{file_suffix}\",\n",
    "            file_info.height,\n",
    "            file_info.image_count,\n",
    "            file_info.voxel_bytes,\n",
    "            signed='Y',\n",
    "            byte_order='BE'\n",
    "        )\n",
    "        superpixels_file = read_binary_data_3D(\n",
    "            f\"{superpixels_dir_path}/{SUPERPIXELS_FILE_PREFIX}{file_suffix}\",\n",
    "            file_info.height,\n",
    "            file_info.image_count,\n",
    "            file_info.voxel_bytes,\n",
    "            signed='Y',\n",
    "            byte_order='EB'\n",
    "        )\n",
    "        \n",
    "        rags[file_info.patient_id] = process_given_3D_image(labels_file, image_file, superpixels_file, file_info)\n",
    "    \n",
    "    print(\"All 3D files have been processed\")\n",
    "    return rags"
   ]
  },
  {
   "cell_type": "code",
   "execution_count": 8,
   "metadata": {},
   "outputs": [
    {
     "name": "stdout",
     "output_type": "stream",
     "text": [
      "Processing file: 12\n",
      "Processing sub images: 1/18\n",
      "Processing sub images: 2/18\n",
      "Processing sub images: 3/18\n",
      "Processing sub images: 4/18\n",
      "Processing sub images: 5/18\n",
      "Processing sub images: 6/18\n"
     ]
    },
    {
     "ename": "KeyboardInterrupt",
     "evalue": "",
     "output_type": "error",
     "traceback": [
      "\u001b[0;31m---------------------------------------------------------------------------\u001b[0m",
      "\u001b[0;31mKeyboardInterrupt\u001b[0m                         Traceback (most recent call last)",
      "\u001b[0;32m<ipython-input-8-d948ded43d7f>\u001b[0m in \u001b[0;36m<module>\u001b[0;34m\u001b[0m\n\u001b[0;32m----> 1\u001b[0;31m \u001b[0mprocess_all_3D_images_from_directory\u001b[0m\u001b[0;34m(\u001b[0m\u001b[0mIMAGES_DIR_PATH\u001b[0m\u001b[0;34m,\u001b[0m \u001b[0mLABELS_DIR_PATH\u001b[0m\u001b[0;34m,\u001b[0m \u001b[0mSUPERPIXELS_DIR_PATH\u001b[0m\u001b[0;34m)\u001b[0m\u001b[0;34m\u001b[0m\u001b[0;34m\u001b[0m\u001b[0m\n\u001b[0m",
      "\u001b[0;32m<ipython-input-7-190ccd337a16>\u001b[0m in \u001b[0;36mprocess_all_3D_images_from_directory\u001b[0;34m(images_dir_path, labels_dir_path, superpixels_dir_path)\u001b[0m\n\u001b[1;32m     73\u001b[0m         )\n\u001b[1;32m     74\u001b[0m \u001b[0;34m\u001b[0m\u001b[0m\n\u001b[0;32m---> 75\u001b[0;31m         \u001b[0mrags\u001b[0m\u001b[0;34m[\u001b[0m\u001b[0mfile_info\u001b[0m\u001b[0;34m.\u001b[0m\u001b[0mpatient_id\u001b[0m\u001b[0;34m]\u001b[0m \u001b[0;34m=\u001b[0m \u001b[0mprocess_given_3D_image\u001b[0m\u001b[0;34m(\u001b[0m\u001b[0mlabels_file\u001b[0m\u001b[0;34m,\u001b[0m \u001b[0mimage_file\u001b[0m\u001b[0;34m,\u001b[0m \u001b[0msuperpixels_file\u001b[0m\u001b[0;34m,\u001b[0m \u001b[0mfile_info\u001b[0m\u001b[0;34m)\u001b[0m\u001b[0;34m\u001b[0m\u001b[0;34m\u001b[0m\u001b[0m\n\u001b[0m\u001b[1;32m     76\u001b[0m \u001b[0;34m\u001b[0m\u001b[0m\n\u001b[1;32m     77\u001b[0m     \u001b[0mprint\u001b[0m\u001b[0;34m(\u001b[0m\u001b[0;34m\"All 3D files have been processed\"\u001b[0m\u001b[0;34m)\u001b[0m\u001b[0;34m\u001b[0m\u001b[0;34m\u001b[0m\u001b[0m\n",
      "\u001b[0;32m<ipython-input-7-190ccd337a16>\u001b[0m in \u001b[0;36mprocess_given_3D_image\u001b[0;34m(labels_file, image_file, superpixels_file, file_info)\u001b[0m\n\u001b[1;32m     28\u001b[0m         \u001b[0mlabels\u001b[0m \u001b[0;34m=\u001b[0m \u001b[0mlabels_file\u001b[0m\u001b[0;34m[\u001b[0m\u001b[0;34m:\u001b[0m\u001b[0;34m,\u001b[0m\u001b[0;34m:\u001b[0m\u001b[0;34m,\u001b[0m\u001b[0mlabels_index\u001b[0m\u001b[0;34m]\u001b[0m\u001b[0;34m\u001b[0m\u001b[0;34m\u001b[0m\u001b[0m\n\u001b[1;32m     29\u001b[0m         \u001b[0mimg\u001b[0m \u001b[0;34m=\u001b[0m \u001b[0mimage_file\u001b[0m\u001b[0;34m[\u001b[0m\u001b[0;34m:\u001b[0m\u001b[0;34m,\u001b[0m\u001b[0;34m:\u001b[0m\u001b[0;34m,\u001b[0m\u001b[0mlabels_index\u001b[0m\u001b[0;34m]\u001b[0m\u001b[0;34m\u001b[0m\u001b[0;34m\u001b[0m\u001b[0m\n\u001b[0;32m---> 30\u001b[0;31m         \u001b[0mrag\u001b[0m \u001b[0;34m=\u001b[0m \u001b[0mskigraph\u001b[0m\u001b[0;34m.\u001b[0m\u001b[0mrag_mean_color\u001b[0m\u001b[0;34m(\u001b[0m\u001b[0mimg\u001b[0m\u001b[0;34m,\u001b[0m \u001b[0mlabels\u001b[0m\u001b[0;34m)\u001b[0m\u001b[0;34m\u001b[0m\u001b[0;34m\u001b[0m\u001b[0m\n\u001b[0m\u001b[1;32m     31\u001b[0m         \u001b[0mrags\u001b[0m\u001b[0;34m.\u001b[0m\u001b[0mappend\u001b[0m\u001b[0;34m(\u001b[0m\u001b[0mrag\u001b[0m\u001b[0;34m)\u001b[0m\u001b[0;34m\u001b[0m\u001b[0;34m\u001b[0m\u001b[0m\n\u001b[1;32m     32\u001b[0m         \u001b[0msuperpixels\u001b[0m \u001b[0;34m=\u001b[0m \u001b[0msuperpixels_file\u001b[0m\u001b[0;34m[\u001b[0m\u001b[0;34m:\u001b[0m\u001b[0;34m,\u001b[0m\u001b[0;34m:\u001b[0m\u001b[0;34m,\u001b[0m\u001b[0mlabels_index\u001b[0m\u001b[0;34m]\u001b[0m\u001b[0;34m\u001b[0m\u001b[0;34m\u001b[0m\u001b[0m\n",
      "\u001b[0;32m~/anaconda3/lib/python3.8/site-packages/skimage/future/graph/rag.py\u001b[0m in \u001b[0;36mrag_mean_color\u001b[0;34m(image, labels, connectivity, mode, sigma)\u001b[0m\n\u001b[1;32m    375\u001b[0m         \u001b[0;32mif\u001b[0m \u001b[0mmode\u001b[0m \u001b[0;34m==\u001b[0m \u001b[0;34m'similarity'\u001b[0m\u001b[0;34m:\u001b[0m\u001b[0;34m\u001b[0m\u001b[0;34m\u001b[0m\u001b[0m\n\u001b[1;32m    376\u001b[0m             \u001b[0md\u001b[0m\u001b[0;34m[\u001b[0m\u001b[0;34m'weight'\u001b[0m\u001b[0;34m]\u001b[0m \u001b[0;34m=\u001b[0m \u001b[0mmath\u001b[0m\u001b[0;34m.\u001b[0m\u001b[0me\u001b[0m \u001b[0;34m**\u001b[0m \u001b[0;34m(\u001b[0m\u001b[0;34m-\u001b[0m\u001b[0;34m(\u001b[0m\u001b[0mdiff\u001b[0m \u001b[0;34m**\u001b[0m \u001b[0;36m2\u001b[0m\u001b[0;34m)\u001b[0m \u001b[0;34m/\u001b[0m \u001b[0msigma\u001b[0m\u001b[0;34m)\u001b[0m\u001b[0;34m\u001b[0m\u001b[0;34m\u001b[0m\u001b[0m\n\u001b[0;32m--> 377\u001b[0;31m         \u001b[0;32melif\u001b[0m \u001b[0mmode\u001b[0m \u001b[0;34m==\u001b[0m \u001b[0;34m'distance'\u001b[0m\u001b[0;34m:\u001b[0m\u001b[0;34m\u001b[0m\u001b[0;34m\u001b[0m\u001b[0m\n\u001b[0m\u001b[1;32m    378\u001b[0m             \u001b[0md\u001b[0m\u001b[0;34m[\u001b[0m\u001b[0;34m'weight'\u001b[0m\u001b[0;34m]\u001b[0m \u001b[0;34m=\u001b[0m \u001b[0mdiff\u001b[0m\u001b[0;34m\u001b[0m\u001b[0;34m\u001b[0m\u001b[0m\n\u001b[1;32m    379\u001b[0m         \u001b[0;32melse\u001b[0m\u001b[0;34m:\u001b[0m\u001b[0;34m\u001b[0m\u001b[0;34m\u001b[0m\u001b[0m\n",
      "\u001b[0;31mKeyboardInterrupt\u001b[0m: "
     ]
    }
   ],
   "source": [
    "process_all_3D_images_from_directory(IMAGES_DIR_PATH, LABELS_DIR_PATH, SUPERPIXELS_DIR_PATH)"
   ]
  },
  {
   "cell_type": "code",
   "execution_count": null,
   "metadata": {},
   "outputs": [],
   "source": []
  },
  {
   "cell_type": "code",
   "execution_count": null,
   "metadata": {},
   "outputs": [],
   "source": []
  }
 ],
 "metadata": {
  "kernelspec": {
   "display_name": "Python 3",
   "language": "python",
   "name": "python3"
  },
  "language_info": {
   "codemirror_mode": {
    "name": "ipython",
    "version": 3
   },
   "file_extension": ".py",
   "mimetype": "text/x-python",
   "name": "python",
   "nbconvert_exporter": "python",
   "pygments_lexer": "ipython3",
   "version": "3.8.3"
  }
 },
 "nbformat": 4,
 "nbformat_minor": 4
}
