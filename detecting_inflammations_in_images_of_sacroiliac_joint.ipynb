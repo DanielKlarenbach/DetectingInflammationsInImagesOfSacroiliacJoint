{
 "cells": [
  {
   "cell_type": "code",
   "execution_count": 1,
   "metadata": {},
   "outputs": [],
   "source": [
    "import numpy as np\n",
    "import os\n",
    "import collections\n",
    "import matplotlib.pyplot as plt\n",
    "import skimage.future.graph as skigraph"
   ]
  },
  {
   "cell_type": "code",
   "execution_count": 2,
   "metadata": {},
   "outputs": [],
   "source": [
    "# script parameters\n",
    "MAIN_DIR_PATH = \"/home/daniel/Praca inżynierska/DetectingInflammationsInImagesOfSacroiliacJoint\"\n",
    "DATA_DIR_NAME = \"data\"\n",
    "IMAGES_DIR_NAME = \"images\"\n",
    "LABELS_DIR_NAME = \"labels\"\n",
    "SUPERPIXELS_DIR_NAME = \"superpixels\""
   ]
  },
  {
   "cell_type": "code",
   "execution_count": 3,
   "metadata": {},
   "outputs": [],
   "source": [
    "# globals\n",
    "DATA_DIR_PATH = f\"{MAIN_DIR_PATH}/{DATA_DIR_NAME}\"\n",
    "IMAGES_DIR_PATH = f\"{DATA_DIR_PATH}/{IMAGES_DIR_NAME}\"\n",
    "LABELS_DIR_PATH = f\"{DATA_DIR_PATH}/{LABELS_DIR_NAME}\"\n",
    "SUPERPIXELS_DIR_PATH = f\"{DATA_DIR_PATH}/{SUPERPIXELS_DIR_NAME}\""
   ]
  },
  {
   "cell_type": "code",
   "execution_count": null,
   "metadata": {},
   "outputs": [],
   "source": [
    "# utils\n",
    "def show_2d_image_from_3d_image(image_3d, index_of_2d_image):\n",
    "    plt.figure(figsize = (20,20))\n",
    "    plt.imshow(image_3d[:,:,index_of_2d_image], cmap='gray')\n",
    "    plt.show()"
   ]
  },
  {
   "cell_type": "code",
   "execution_count": 4,
   "metadata": {},
   "outputs": [],
   "source": [
    "# read data\n",
    "def read_binary_data_3D(file_name, image_size, image_count, voxel_bytes, signed='Y', byte_order='BE'):\n",
    "    if voxel_bytes == 2:\n",
    "        if signed == 'N':\n",
    "            d = np.zeros((image_size, image_size, image_count), np.uint16)\n",
    "        else:\n",
    "            d = np.zeros((image_size, image_size, image_count), np.int16)\n",
    "    elif voxel_bytes == 1:\n",
    "        if signed == 'N':\n",
    "            d = np.zeros((image_size, image_size, image_count), np.uint8)\n",
    "        else:\n",
    "            d = np.zeros((image_size, image_size, image_count), np.int8)\n",
    "    else:\n",
    "        print('Wrong number of bytes per voxel')\n",
    "        return\n",
    "\n",
    "    f = open(file_name, \"rb\")\n",
    "    for i in range(0, image_count):\n",
    "        for j in range(0, image_size):\n",
    "            for k in range(0, image_size):\n",
    "                byte = f.read(voxel_bytes)\n",
    "                if voxel_bytes == 2:\n",
    "                    if byte_order == 'BE':\n",
    "                        a = 256 * byte[0] + byte[1]\n",
    "                    else:\n",
    "                        a = byte[0] + 256 * byte[1]\n",
    "                else:\n",
    "                    a = byte[0]\n",
    "                d[j,k,i] = a\n",
    "    f.close()\n",
    "    return d"
   ]
  },
  {
   "cell_type": "code",
   "execution_count": 5,
   "metadata": {},
   "outputs": [],
   "source": [
    "\n",
    "\n",
    "\n",
    "def create_rag_on_labels_image(labels, superpixels, rag, file_info, image_number):\n",
    "    fig, ax = plt.subplots(nrows=1, ncols=1, sharex=True, sharey=True, figsize=(20, 20))\n",
    "    ax.axis('off')\n",
    "    graph_image_path = f\"{DATA_DIR_PATH}/rags/{file_info.patient_id}/rag_{image_number}_{file_info.height}_{file_info.width}_{file_info.image_count}_{file_info.voxel_bytes}_.png\"\n",
    "    file = open(graph_image_path, \"w\")\n",
    "    file.close()\n",
    "    lc = skigraph.show_rag(labels, rag, superpixels, img_cmap='pink', edge_cmap='viridis', ax=ax)\n",
    "    fig.savefig(graph_image_path)\n",
    "    plt.close(fig) \n",
    "\n",
    "FileInfo = collections.namedtuple('FileInfo', ['name', 'patient_id', 'height', 'width', 'image_count', 'voxel_bytes'])\n",
    "\n",
    "def process_all_3D_images_from_directory(images_dir_path, labels_dir_path, superpixels_dir_path):\n",
    "    file_names = os.listdir(labels_dir_path)\n",
    "    rags = {i: list() for i in range(1, len(file_names) + 1)}\n",
    "\n",
    "    for file_name in file_names:\n",
    "        unprocessed_file_info = file_name.split(\"_\")[:-1]\n",
    "        unprocessed_file_info[1:] = [int(unprocessed_file_info[i]) for i in range(1, len(unprocessed_file_info))]\n",
    "        file_info = FileInfo(*unprocessed_file_info)\n",
    "        print(f\"Processing file: {file_info.patient_id}\")\n",
    "        \n",
    "        labels_file = read_binary_data_3D(\n",
    "            f\"{labels_dir_path}/{file_name}\",\n",
    "            file_info.height,\n",
    "            file_info.image_count,\n",
    "            file_info.voxel_bytes,\n",
    "            signed='Y',\n",
    "            byte_order='EB'\n",
    "        )\n",
    "        image_file = read_binary_data_3D(\n",
    "            f\"{images_dir_path}/STIR_{file_info.patient_id}_{file_info.height}_{file_info.width}_{file_info.image_count}_{file_info.voxel_bytes}_.raw\",\n",
    "            file_info.height,\n",
    "            file_info.image_count,\n",
    "            file_info.voxel_bytes,\n",
    "            signed='Y',\n",
    "            byte_order='BE'\n",
    "        )\n",
    "        superpixels_file = read_binary_data_3D(\n",
    "            f\"{superpixels_dir_path}/1000SuperPixelMeanValueTPS_{file_info.patient_id}_{file_info.height}_{file_info.width}_{file_info.image_count}_{file_info.voxel_bytes}_.raw\",\n",
    "            file_info.height,\n",
    "            file_info.image_count,\n",
    "            file_info.voxel_bytes,\n",
    "            signed='Y',\n",
    "            byte_order='EB'\n",
    "        )\n",
    "        \n",
    "        for labels_index in range(file_info.image_count):\n",
    "            print(f\"Processing sub images: {labels_index}/{file_info.image_count}\")\n",
    "            labels = labels_file[:,:,labels_index]\n",
    "            img = image_file[:,:,labels_index]\n",
    "            rag = skigraph.rag_mean_color(img, labels)\n",
    "            rags[file_info.patient_id].append(rag)\n",
    "            superpixels = superpixels_file[:,:,labels_index]\n",
    "            create_rag_on_labels_image(labels, superpixels, rag, file_info, labels_index + 1)\n"
   ]
  },
  {
   "cell_type": "code",
   "execution_count": 6,
   "metadata": {},
   "outputs": [
    {
     "name": "stdout",
     "output_type": "stream",
     "text": [
      "Processing file: 12\n",
      "Processing sub images: 0/18\n"
     ]
    },
    {
     "ename": "FileNotFoundError",
     "evalue": "[Errno 2] No such file or directory: '/home/daniel/Praca inżynierska/DetectingInflammationsInImagesOfSacroiliacJoint/data/rags/12/rag_1_400_400_18_2_.png'",
     "output_type": "error",
     "traceback": [
      "\u001b[0;31m---------------------------------------------------------------------------\u001b[0m",
      "\u001b[0;31mFileNotFoundError\u001b[0m                         Traceback (most recent call last)",
      "\u001b[0;32m<ipython-input-6-d948ded43d7f>\u001b[0m in \u001b[0;36m<module>\u001b[0;34m\u001b[0m\n\u001b[0;32m----> 1\u001b[0;31m \u001b[0mprocess_all_3D_images_from_directory\u001b[0m\u001b[0;34m(\u001b[0m\u001b[0mIMAGES_DIR_PATH\u001b[0m\u001b[0;34m,\u001b[0m \u001b[0mLABELS_DIR_PATH\u001b[0m\u001b[0;34m,\u001b[0m \u001b[0mSUPERPIXELS_DIR_PATH\u001b[0m\u001b[0;34m)\u001b[0m\u001b[0;34m\u001b[0m\u001b[0;34m\u001b[0m\u001b[0m\n\u001b[0m",
      "\u001b[0;32m<ipython-input-5-2f3cac14e9a5>\u001b[0m in \u001b[0;36mprocess_all_3D_images_from_directory\u001b[0;34m(images_dir_path, labels_dir_path, superpixels_dir_path)\u001b[0m\n\u001b[1;32m     58\u001b[0m             \u001b[0mrags\u001b[0m\u001b[0;34m[\u001b[0m\u001b[0mfile_info\u001b[0m\u001b[0;34m.\u001b[0m\u001b[0mpatient_id\u001b[0m\u001b[0;34m]\u001b[0m\u001b[0;34m.\u001b[0m\u001b[0mappend\u001b[0m\u001b[0;34m(\u001b[0m\u001b[0mrag\u001b[0m\u001b[0;34m)\u001b[0m\u001b[0;34m\u001b[0m\u001b[0;34m\u001b[0m\u001b[0m\n\u001b[1;32m     59\u001b[0m             \u001b[0msuperpixels\u001b[0m \u001b[0;34m=\u001b[0m \u001b[0msuperpixels_file\u001b[0m\u001b[0;34m[\u001b[0m\u001b[0;34m:\u001b[0m\u001b[0;34m,\u001b[0m\u001b[0;34m:\u001b[0m\u001b[0;34m,\u001b[0m\u001b[0mlabels_index\u001b[0m\u001b[0;34m]\u001b[0m\u001b[0;34m\u001b[0m\u001b[0;34m\u001b[0m\u001b[0m\n\u001b[0;32m---> 60\u001b[0;31m             \u001b[0mcreate_rag_on_labels_image\u001b[0m\u001b[0;34m(\u001b[0m\u001b[0mlabels\u001b[0m\u001b[0;34m,\u001b[0m \u001b[0msuperpixels\u001b[0m\u001b[0;34m,\u001b[0m \u001b[0mrag\u001b[0m\u001b[0;34m,\u001b[0m \u001b[0mfile_info\u001b[0m\u001b[0;34m,\u001b[0m \u001b[0mlabels_index\u001b[0m \u001b[0;34m+\u001b[0m \u001b[0;36m1\u001b[0m\u001b[0;34m)\u001b[0m\u001b[0;34m\u001b[0m\u001b[0;34m\u001b[0m\u001b[0m\n\u001b[0m",
      "\u001b[0;32m<ipython-input-5-2f3cac14e9a5>\u001b[0m in \u001b[0;36mcreate_rag_on_labels_image\u001b[0;34m(labels, superpixels, rag, file_info, image_number)\u001b[0m\n\u001b[1;32m      8\u001b[0m     \u001b[0max\u001b[0m\u001b[0;34m.\u001b[0m\u001b[0maxis\u001b[0m\u001b[0;34m(\u001b[0m\u001b[0;34m'off'\u001b[0m\u001b[0;34m)\u001b[0m\u001b[0;34m\u001b[0m\u001b[0;34m\u001b[0m\u001b[0m\n\u001b[1;32m      9\u001b[0m     \u001b[0mgraph_image_path\u001b[0m \u001b[0;34m=\u001b[0m \u001b[0;34mf\"{DATA_DIR_PATH}/rags/{file_info.patient_id}/rag_{image_number}_{file_info.height}_{file_info.width}_{file_info.image_count}_{file_info.voxel_bytes}_.png\"\u001b[0m\u001b[0;34m\u001b[0m\u001b[0;34m\u001b[0m\u001b[0m\n\u001b[0;32m---> 10\u001b[0;31m     \u001b[0mfile\u001b[0m \u001b[0;34m=\u001b[0m \u001b[0mopen\u001b[0m\u001b[0;34m(\u001b[0m\u001b[0mgraph_image_path\u001b[0m\u001b[0;34m,\u001b[0m \u001b[0;34m\"w\"\u001b[0m\u001b[0;34m)\u001b[0m\u001b[0;34m\u001b[0m\u001b[0;34m\u001b[0m\u001b[0m\n\u001b[0m\u001b[1;32m     11\u001b[0m     \u001b[0mfile\u001b[0m\u001b[0;34m.\u001b[0m\u001b[0mclose\u001b[0m\u001b[0;34m(\u001b[0m\u001b[0;34m)\u001b[0m\u001b[0;34m\u001b[0m\u001b[0;34m\u001b[0m\u001b[0m\n\u001b[1;32m     12\u001b[0m     \u001b[0mlc\u001b[0m \u001b[0;34m=\u001b[0m \u001b[0mskigraph\u001b[0m\u001b[0;34m.\u001b[0m\u001b[0mshow_rag\u001b[0m\u001b[0;34m(\u001b[0m\u001b[0mlabels\u001b[0m\u001b[0;34m,\u001b[0m \u001b[0mrag\u001b[0m\u001b[0;34m,\u001b[0m \u001b[0msuperpixels\u001b[0m\u001b[0;34m,\u001b[0m \u001b[0mimg_cmap\u001b[0m\u001b[0;34m=\u001b[0m\u001b[0;34m'pink'\u001b[0m\u001b[0;34m,\u001b[0m \u001b[0medge_cmap\u001b[0m\u001b[0;34m=\u001b[0m\u001b[0;34m'viridis'\u001b[0m\u001b[0;34m,\u001b[0m \u001b[0max\u001b[0m\u001b[0;34m=\u001b[0m\u001b[0max\u001b[0m\u001b[0;34m)\u001b[0m\u001b[0;34m\u001b[0m\u001b[0;34m\u001b[0m\u001b[0m\n",
      "\u001b[0;31mFileNotFoundError\u001b[0m: [Errno 2] No such file or directory: '/home/daniel/Praca inżynierska/DetectingInflammationsInImagesOfSacroiliacJoint/data/rags/12/rag_1_400_400_18_2_.png'"
     ]
    },
    {
     "data": {
      "image/png": "[encoded data removed]",
      "text/plain": [
       "<Figure size 1440x1440 with 1 Axes>"
      ]
     },
     "metadata": {
      "needs_background": "light"
     },
     "output_type": "display_data"
    }
   ],
   "source": [
    "process_all_3D_images_from_directory(IMAGES_DIR_PATH, LABELS_DIR_PATH, SUPERPIXELS_DIR_PATH)"
   ]
  },
  {
   "cell_type": "code",
   "execution_count": null,
   "metadata": {},
   "outputs": [],
   "source": []
  },
  {
   "cell_type": "code",
   "execution_count": null,
   "metadata": {},
   "outputs": [],
   "source": []
  }
 ],
 "metadata": {
  "kernelspec": {
   "display_name": "Python 3",
   "language": "python",
   "name": "python3"
  },
  "language_info": {
   "codemirror_mode": {
    "name": "ipython",
    "version": 3
   },
   "file_extension": ".py",
   "mimetype": "text/x-python",
   "name": "python",
   "nbconvert_exporter": "python",
   "pygments_lexer": "ipython3",
   "version": "3.8.3"
  }
 },
 "nbformat": 4,
 "nbformat_minor": 4
}
